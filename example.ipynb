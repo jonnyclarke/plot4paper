{
 "cells": [
  {
   "cell_type": "code",
   "execution_count": 1,
   "id": "1cb5593d",
   "metadata": {},
   "outputs": [],
   "source": [
    "import matplotlib.pyplot as plt\n",
    "import numpy as np"
   ]
  },
  {
   "cell_type": "code",
   "execution_count": 14,
   "id": "b1967875",
   "metadata": {},
   "outputs": [
    {
     "data": {
      "text/plain": [
       "<module 'plot4paper.plot4paper' from '/Users/jonathanclarke/Documents/jpcpy/plot4paper/plot4paper.py'>"
      ]
     },
     "execution_count": 14,
     "metadata": {},
     "output_type": "execute_result"
    }
   ],
   "source": [
    "import plot4paper.plot4paper as p4p\n"
   ]
  },
  {
   "cell_type": "code",
   "execution_count": 15,
   "id": "045c10c3",
   "metadata": {},
   "outputs": [
    {
     "name": "stdout",
     "output_type": "stream",
     "text": [
      "Help on module plot4paper.plot4paper in plot4paper:\n",
      "\n",
      "NAME\n",
      "    plot4paper.plot4paper\n",
      "\n",
      "DESCRIPTION\n",
      "    Python class to automate the generation of beautiful plots at\n",
      "    academic publication standard.\n",
      "\n",
      "CLASSES\n",
      "    builtins.object\n",
      "        qualfig\n",
      "    \n",
      "    class qualfig(builtins.object)\n",
      "     |  qualfig(key: str = 'default', n_columns: int = 1, height_fraction: float = 0.6180339887498948, width_fraction: float = 1.0) -> None\n",
      "     |  \n",
      "     |  Class to automate basic formatting of plots to ensure consistency.\n",
      "     |  \n",
      "     |  Methods defined here:\n",
      "     |  \n",
      "     |  __init__(self, key: str = 'default', n_columns: int = 1, height_fraction: float = 0.6180339887498948, width_fraction: float = 1.0) -> None\n",
      "     |      Initialise the qualfig (QUALITY-FIGURE) class.\n",
      "     |      \n",
      "     |      Args\n",
      "     |          key (str):\n",
      "     |              The publication template name.\n",
      "     |              NOTE: default = \"default\"\n",
      "     |      \n",
      "     |          n_columns (int):\n",
      "     |              Number of columns the plot should span.\n",
      "     |              NOTE: default = 1\n",
      "     |      \n",
      "     |          height_fraction (float):\n",
      "     |              The fractional height of the plot relative to the width.\n",
      "     |              NOTE: default = 1.618 (The Golden Ratio)\n",
      "     |      \n",
      "     |          wf (Optional[float]):\n",
      "     |              The fractional width of the plot relative to full page/column\n",
      "     |              width.\n",
      "     |              NOTE: default = 1.000\n",
      "     |  \n",
      "     |  is_colorbar_axis(self, axis: matplotlib.axes._axes.Axes) -> None\n",
      "     |      Function to tell script an axis is a colourbar axis.\n",
      "     |      Reconfigures the tick settings.\n",
      "     |      \n",
      "     |      Args:\n",
      "     |          axis (plt.Axes):\n",
      "     |              Axis that should be treated as a colourbar axis.\n",
      "     |  \n",
      "     |  remove_axis_border(self, axis) -> None\n",
      "     |      Function to hide all borders and ticks of axes used to generate\n",
      "     |      custom labels over multirow/col plots.\n",
      "     |      \n",
      "     |      Args:\n",
      "     |          axis (plt.Axes):\n",
      "     |              Axis that should have all borders removed.\n",
      "     |  \n",
      "     |  save(self, fname: str, extension: str = 'pdf', dots_per_inch: int = 1000) -> None\n",
      "     |      Save file maintaining the quality figure formatting.\n",
      "     |      \n",
      "     |      Args:\n",
      "     |          fname (str):\n",
      "     |              File name to save figure under.\n",
      "     |      \n",
      "     |          extension (str):\n",
      "     |              File type to save as.\n",
      "     |              NOTE: default = pdf\n",
      "     |      \n",
      "     |          dots_per_inch (int):\n",
      "     |              Figure resolution.\n",
      "     |              More dots will allow better zoom features but will make file\n",
      "     |              larger.\n",
      "     |              NOTE: default = 1000\n",
      "     |  \n",
      "     |  set_label_spaces(self, side: Optional[float] = None, bottom: Optional[float] = None, top: Optional[float] = None, left: Optional[float] = None, right: Optional[float] = None) -> None\n",
      "     |      Function to customise the plot whitespace borders to allow more\n",
      "     |      elaborate axes labels or titles.\n",
      "     |      A value of 0 means no space will be reserved along that border of\n",
      "     |      the figure.\n",
      "     |      A value of 0.05 corresponds to 5% of the figure will be whitespace gap\n",
      "     |      along that gap.\n",
      "     |      \n",
      "     |      Args:\n",
      "     |          side (Optional[float]):\n",
      "     |              Fractional width to reserve at the side for white-space.\n",
      "     |      \n",
      "     |          bottom (Optional[float]):\n",
      "     |              Fractional width to reserve at the bottom for white-space.\n",
      "     |      \n",
      "     |          top (Optional[float]):\n",
      "     |              Fractional width to reserve at the top for white-space.\n",
      "     |      \n",
      "     |          left (Optional[float]):\n",
      "     |              Fractional width to reserve at the left for white-space.\n",
      "     |      \n",
      "     |          right (Optional[float]):\n",
      "     |              Fractional width to reserve at the right for white-space.\n",
      "     |  \n",
      "     |  ----------------------------------------------------------------------\n",
      "     |  Data descriptors defined here:\n",
      "     |  \n",
      "     |  __dict__\n",
      "     |      dictionary for instance variables (if defined)\n",
      "     |  \n",
      "     |  __weakref__\n",
      "     |      list of weak references to the object (if defined)\n",
      "\n",
      "DATA\n",
      "    GOLDEN_RATIO_FRACTION = 0.6180339887498948\n",
      "    INCHES_TO_POINTS_CONVERSION = 72.27\n",
      "    Optional = typing.Optional\n",
      "        Optional[X] is equivalent to Union[X, None].\n",
      "    \n",
      "    SET_PERMITTED_KEYS = ['DEFAULT', 'MNRAS', 'AA', 'APJ', 'IAU', 'LMU']\n",
      "    Set = typing.Set\n",
      "        A generic version of set.\n",
      "    \n",
      "    __annotations__ = {'GOLDEN_RATIO_FRACTION': <class 'float'>, 'INCHES_T...\n",
      "    config = {'AA': {'savesuf': '_AandA', 'texcolumnwidth': 256.0748, 'tex...\n",
      "    congif_path = '/Users/jonathanclarke/Documents/jpcpy/plot4paper/config...\n",
      "    logger = <Logger plot4paper.plot4paper (WARNING)>\n",
      "    rcParams = RcParams({'_internal.classic_mode': False,\n",
      "         ...inor.wid...\n",
      "    stream = <_io.TextIOWrapper name='/Users/jonathanclarke/D...lot4paper/...\n",
      "\n",
      "FILE\n",
      "    /Users/jonathanclarke/Documents/jpcpy/plot4paper/plot4paper.py\n",
      "\n",
      "\n"
     ]
    }
   ],
   "source": [
    "help(p4p)"
   ]
  },
  {
   "cell_type": "code",
   "execution_count": 16,
   "id": "9950f20b",
   "metadata": {},
   "outputs": [
    {
     "name": "stdout",
     "output_type": "stream",
     "text": [
      "PDFCROP 1.40, 2020/06/06 - Copyright (c) 2002-2020 by Heiko Oberdiek, Oberdiek Package Support Group.\n",
      "==> 1 page written on `test_MNRAS.pdf'.\n"
     ]
    },
    {
     "data": {
      "image/png": "[encoded data removed]",
      "text/plain": [
       "<Figure size 332.088x205.242 with 1 Axes>"
      ]
     },
     "metadata": {},
     "output_type": "display_data"
    }
   ],
   "source": [
    "x = np.linspace(0,2*np.pi,1000)\n",
    "y = np.sin(x)\n",
    "\n",
    "qualfig = p4p.qualfig(\n",
    "    key=\"mnras\",\n",
    "    n_columns=1\n",
    ")\n",
    "qualfig.set_label_spaces(right=0.02)\n",
    "\n",
    "fig, ax =plt.subplots()\n",
    "ax.plot(x,y)\n",
    "\n",
    "ax.set_xlabel(r\"$X$\")\n",
    "ax.set_ylabel(r\"$Y$\")\n",
    "\n",
    "\n",
    "qualfig.save(\"test.pdf\")\n",
    "plt.show()"
   ]
  }
 ],
 "metadata": {
  "kernelspec": {
   "display_name": "Python 3",
   "language": "python",
   "name": "python3"
  },
  "language_info": {
   "codemirror_mode": {
    "name": "ipython",
    "version": 3
   },
   "file_extension": ".py",
   "mimetype": "text/x-python",
   "name": "python",
   "nbconvert_exporter": "python",
   "pygments_lexer": "ipython3",
   "version": "3.11.4"
  }
 },
 "nbformat": 4,
 "nbformat_minor": 5
}
